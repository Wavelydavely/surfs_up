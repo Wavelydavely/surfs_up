{
 "cells": [
  {
   "cell_type": "code",
   "execution_count": 22,
   "id": "d2b42233",
   "metadata": {},
   "outputs": [
    {
     "data": {
      "text/plain": [
       "vampire in         2\n",
       "Vampire's          2\n",
       "Vampire sleep      2\n",
       "vampire coming     1\n",
       "vampire sleep      1\n",
       "Vampire of         1\n",
       "vampire which      1\n",
       "Vampire baptism    1\n",
       "Vampire can        1\n",
       "vampire's          1\n",
       "vampire was        1\n",
       "vampire live       1\n",
       "vampire kind       1\n",
       "vampire meant      1\n",
       "Vampire is         1\n",
       "Name: 0, dtype: int64"
      ]
     },
     "execution_count": 22,
     "metadata": {},
     "output_type": "execute_result"
    }
   ],
   "source": [
    "import pandas as pd\n",
    "import re\n",
    "\n",
    "dracula_df = pd.read_csv('dracula.txt', sep='\\n', header=None)\n",
    "dracula_df.columns = ['text']\n",
    "\n",
    "#p = '(\\w+)'\n",
    "p = '(vampire\\W\\w+)'\n",
    "dracula_df['text'].str.extractall(p, flags=re.I)[0].value_counts()"
   ]
  },
  {
   "cell_type": "code",
   "execution_count": null,
   "id": "6cc0cfc2",
   "metadata": {},
   "outputs": [],
   "source": []
  }
 ],
 "metadata": {
  "kernelspec": {
   "display_name": "PythonData",
   "language": "python",
   "name": "pythondata"
  },
  "language_info": {
   "codemirror_mode": {
    "name": "ipython",
    "version": 3
   },
   "file_extension": ".py",
   "mimetype": "text/x-python",
   "name": "python",
   "nbconvert_exporter": "python",
   "pygments_lexer": "ipython3",
   "version": "3.7.9"
  }
 },
 "nbformat": 4,
 "nbformat_minor": 5
}
